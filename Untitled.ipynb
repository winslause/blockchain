{
 "cells": [
  {
   "cell_type": "code",
   "execution_count": 1,
   "id": "45abbf71",
   "metadata": {},
   "outputs": [],
   "source": [
    "# Importing necessary libraries\n",
    "import matplotlib.pyplot as plt\n",
    "import matplotlib.animation as animation\n",
    "import numpy as np\n",
    "import pandas as pd\n",
    "import requests\n",
    "import time"
   ]
  },
  {
   "cell_type": "code",
   "execution_count": 2,
   "id": "66c43144",
   "metadata": {},
   "outputs": [
    {
     "data": {
      "image/png": "[encoded data removed]",
      "text/plain": [
       "<Figure size 1000x800 with 2 Axes>"
      ]
     },
     "metadata": {},
     "output_type": "display_data"
    }
   ],
   "source": [
    "# Initialize figure and axis\n",
    "fig, (ax1, ax2) = plt.subplots(2, 1, figsize=(10, 8))\n",
    "\n",
    "# Initialize empty lists to store prices\n",
    "btc_prices = []\n",
    "eth_prices = []\n",
    "timestamps = []"
   ]
  },
  {
   "cell_type": "code",
   "execution_count": 3,
   "id": "ec06d9b0",
   "metadata": {},
   "outputs": [],
   "source": [
    "# Function to fetch live data from Binance\n",
    "def fetch_binance_data():\n",
    "    url = 'https://api.binance.com/api/v3/ticker/price'\n",
    "    response = requests.get(url).json()\n",
    "    btc_price = float([item['price'] for item in response if item['symbol'] == 'BTCUSDT'][0])\n",
    "    eth_price = float([item['price'] for item in response if item['symbol'] == 'ETHUSDT'][0])\n",
    "    return btc_price, eth_price\n"
   ]
  },
  {
   "cell_type": "code",
   "execution_count": 4,
   "id": "6a962036",
   "metadata": {},
   "outputs": [
    {
     "name": "stderr",
     "output_type": "stream",
     "text": [
      "C:\\Users\\wenbu\\AppData\\Local\\Temp\\ipykernel_5644\\3145722817.py:35: UserWarning: frames=None which we can infer the length of, did not pass an explicit *save_count* and passed cache_frame_data=True.  To avoid a possibly unbounded cache, frame data caching has been disabled. To suppress this warning either pass `cache_frame_data=False` or `save_count=MAX_FRAMES`.\n",
      "  ani = animation.FuncAnimation(fig, animate, interval=2000)\n"
     ]
    },
    {
     "data": {
      "text/plain": [
       "<Figure size 640x480 with 0 Axes>"
      ]
     },
     "metadata": {},
     "output_type": "display_data"
    }
   ],
   "source": [
    "# Function to update the plot\n",
    "def animate(i):\n",
    "    btc_price, eth_price = fetch_binance_data()\n",
    "    current_time = pd.Timestamp.now()\n",
    "    \n",
    "    timestamps.append(current_time)\n",
    "    btc_prices.append(btc_price)\n",
    "    eth_prices.append(eth_price)\n",
    "    \n",
    "    # Limit data to last 100 points for better visualization\n",
    "    if len(btc_prices) > 100:\n",
    "        btc_prices.pop(0)\n",
    "        eth_prices.pop(0)\n",
    "        timestamps.pop(0)\n",
    "    \n",
    "    # Clear previous data\n",
    "    ax1.clear()\n",
    "    ax2.clear()\n",
    "    \n",
    "    # Plot updated data\n",
    "    ax1.plot(timestamps, btc_prices, label='BTC/USDT', color='blue')\n",
    "    ax2.plot(timestamps, eth_prices, label='ETH/USDT', color='green')\n",
    "\n",
    "    # Adding labels\n",
    "    ax1.set_title('BTC/USDT Live Price')\n",
    "    ax2.set_title('ETH/USDT Live Price')\n",
    "    ax1.set_ylabel('Price in USDT')\n",
    "    ax2.set_ylabel('Price in USDT')\n",
    "    ax1.legend(loc='upper left')\n",
    "    ax2.legend(loc='upper left')\n",
    "    \n",
    "    plt.xticks(rotation=45)\n",
    "\n",
    "# Start animation (updates every 2 seconds)\n",
    "ani = animation.FuncAnimation(fig, animate, interval=2000)\n",
    "\n",
    "plt.tight_layout()\n",
    "plt.show()"
   ]
  },
  {
   "cell_type": "code",
   "execution_count": null,
   "id": "546710d5",
   "metadata": {},
   "outputs": [],
   "source": []
  }
 ],
 "metadata": {
  "kernelspec": {
   "display_name": "Python 3 (ipykernel)",
   "language": "python",
   "name": "python3"
  },
  "language_info": {
   "codemirror_mode": {
    "name": "ipython",
    "version": 3
   },
   "file_extension": ".py",
   "mimetype": "text/x-python",
   "name": "python",
   "nbconvert_exporter": "python",
   "pygments_lexer": "ipython3",
   "version": "3.11.4"
  }
 },
 "nbformat": 4,
 "nbformat_minor": 5
}
